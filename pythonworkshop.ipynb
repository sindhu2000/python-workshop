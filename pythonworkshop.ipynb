{
  "nbformat": 4,
  "nbformat_minor": 0,
  "metadata": {
    "colab": {
      "name": "pythonworkshop.ipynb",
      "provenance": [],
      "collapsed_sections": [],
      "authorship_tag": "ABX9TyN6/reoeKAthWAgIFf7KJ5X",
      "include_colab_link": true
    },
    "kernelspec": {
      "name": "python3",
      "display_name": "Python 3"
    }
  },
  "cells": [
    {
      "cell_type": "markdown",
      "metadata": {
        "id": "view-in-github",
        "colab_type": "text"
      },
      "source": [
        "<a href=\"https://colab.research.google.com/github/sindhu2000/python-workshop/blob/main/pythonworkshop.ipynb\" target=\"_parent\"><img src=\"https://colab.research.google.com/assets/colab-badge.svg\" alt=\"Open In Colab\"/></a>"
      ]
    },
    {
      "cell_type": "markdown",
      "metadata": {
        "id": "aMPq6Xrd3Zz9"
      },
      "source": [
        "hello world "
      ]
    },
    {
      "cell_type": "code",
      "metadata": {
        "colab": {
          "base_uri": "https://localhost:8080/"
        },
        "id": "uuG4qRJF1yOy",
        "outputId": "037e99bf-3003-445c-fc11-1e893a18fd27"
      },
      "source": [
        "print(\"hello world\")"
      ],
      "execution_count": null,
      "outputs": [
        {
          "output_type": "stream",
          "text": [
            "hello world\n"
          ],
          "name": "stdout"
        }
      ]
    },
    {
      "cell_type": "code",
      "metadata": {
        "colab": {
          "base_uri": "https://localhost:8080/"
        },
        "id": "nT4AvfXP525g",
        "outputId": "c201c929-9152-46f0-86aa-2c584114d2b0"
      },
      "source": [
        "x=55\r\n",
        "y=\"john\"\r\n",
        "print(x)\r\n",
        "print(y)\r\n"
      ],
      "execution_count": null,
      "outputs": [
        {
          "output_type": "stream",
          "text": [
            "55\n",
            "john\n"
          ],
          "name": "stdout"
        }
      ]
    },
    {
      "cell_type": "code",
      "metadata": {
        "colab": {
          "base_uri": "https://localhost:8080/"
        },
        "id": "SYF14sIS9O-N",
        "outputId": "87e78edb-e117-4adf-ed8e-90ebad2fbee3"
      },
      "source": [
        "x,y,z=\"1\",\"2.675\",\"python\"\r\n",
        "print(x)\r\n",
        "print(y)\r\n",
        "print(z)"
      ],
      "execution_count": null,
      "outputs": [
        {
          "output_type": "stream",
          "text": [
            "1\n",
            "2.675\n",
            "python\n"
          ],
          "name": "stdout"
        }
      ]
    },
    {
      "cell_type": "markdown",
      "metadata": {
        "id": "4R-W5EqmCUMb"
      },
      "source": [
        "exercise1 \r\n"
      ]
    },
    {
      "cell_type": "code",
      "metadata": {
        "colab": {
          "base_uri": "https://localhost:8080/"
        },
        "id": "aCpAMUTQ-u7I",
        "outputId": "2b59d85d-14cd-45fe-9b85-1e8ac06eab72"
      },
      "source": [
        "carname=\"Volvo\"\r\n",
        "print(carname)"
      ],
      "execution_count": null,
      "outputs": [
        {
          "output_type": "stream",
          "text": [
            "Volvo\n"
          ],
          "name": "stdout"
        }
      ]
    },
    {
      "cell_type": "markdown",
      "metadata": {
        "id": "FEzhZKkrCZ_r"
      },
      "source": [
        "exercise2"
      ]
    },
    {
      "cell_type": "code",
      "metadata": {
        "colab": {
          "base_uri": "https://localhost:8080/"
        },
        "id": "Iupwo5VBBxmM",
        "outputId": "5a9b39c1-29c5-4258-8568-16f75296cf6c"
      },
      "source": [
        "x=50\r\n",
        "print(x,type(x))"
      ],
      "execution_count": null,
      "outputs": [
        {
          "output_type": "stream",
          "text": [
            "50 <class 'int'>\n"
          ],
          "name": "stdout"
        }
      ]
    },
    {
      "cell_type": "markdown",
      "metadata": {
        "id": "XgdjbOw8CejT"
      },
      "source": [
        "exercise3\r\n"
      ]
    },
    {
      "cell_type": "code",
      "metadata": {
        "colab": {
          "base_uri": "https://localhost:8080/"
        },
        "id": "_G0DWPVkCFzb",
        "outputId": "1ce39078-64f1-4363-a39c-ba628eb3b9da"
      },
      "source": [
        "x,y=3,5\r\n",
        "print('sum',x+y)"
      ],
      "execution_count": null,
      "outputs": [
        {
          "output_type": "stream",
          "text": [
            "sum 8\n"
          ],
          "name": "stdout"
        }
      ]
    },
    {
      "cell_type": "markdown",
      "metadata": {
        "id": "rO2kt2XwDJw6"
      },
      "source": [
        "exercise4\r\n"
      ]
    },
    {
      "cell_type": "code",
      "metadata": {
        "colab": {
          "base_uri": "https://localhost:8080/"
        },
        "id": "PNg-MWrEDDOR",
        "outputId": "2debf3b3-ec87-4ef1-c79d-881e83dd22b5"
      },
      "source": [
        "x,y=11,17\r\n",
        "z=x+y\r\n",
        "print(\"sum is\",z)"
      ],
      "execution_count": null,
      "outputs": [
        {
          "output_type": "stream",
          "text": [
            "sum is 28\n"
          ],
          "name": "stdout"
        }
      ]
    },
    {
      "cell_type": "code",
      "metadata": {
        "colab": {
          "base_uri": "https://localhost:8080/"
        },
        "id": "zQSHg5buDnIs",
        "outputId": "48920d20-ed88-4b78-b66e-f56e3ae0a6e4"
      },
      "source": [
        "x1=\"Hello World\"\r\n",
        "x2=5\r\n",
        "x3=8.776\r\n",
        "x4=0\r\n",
        "print(type(x1))\r\n",
        "print(type(x2))\r\n",
        "print(type(x3))\r\n",
        "print(type(x4))\r\n"
      ],
      "execution_count": null,
      "outputs": [
        {
          "output_type": "stream",
          "text": [
            "<class 'str'>\n",
            "<class 'int'>\n",
            "<class 'float'>\n",
            "<class 'int'>\n"
          ],
          "name": "stdout"
        }
      ]
    },
    {
      "cell_type": "code",
      "metadata": {
        "colab": {
          "base_uri": "https://localhost:8080/"
        },
        "id": "8ZGYXgJOQjaB",
        "outputId": "04fde915-958c-4b64-8d4f-81f3873ce69d"
      },
      "source": [
        "x4=[\"apple\",\"banana\",\"cherry\"]  #list\r\n",
        "x5=(\"apple\",\"banana\",\"cherry\")  #tuple\r\n",
        "x6=range(6) #range\r\n",
        "x7={\"name\": \"johnwick\",\"age\":36} #dictionary\r\n",
        "x8={\"apple\",\"banana\",\"cherry\"}  #set\r\n",
        "x9=True #bool\r\n",
        "print(type(x5))\r\n",
        "print(type(x6))\r\n",
        "print(type(x7))\r\n",
        "print(type(x8))\r\n",
        "print(type(x9))"
      ],
      "execution_count": null,
      "outputs": [
        {
          "output_type": "stream",
          "text": [
            "<class 'tuple'>\n",
            "<class 'range'>\n",
            "<class 'dict'>\n",
            "<class 'set'>\n",
            "<class 'bool'>\n"
          ],
          "name": "stdout"
        }
      ]
    },
    {
      "cell_type": "code",
      "metadata": {
        "colab": {
          "base_uri": "https://localhost:8080/"
        },
        "id": "cXANpYU1Sx8x",
        "outputId": "c4a5c620-6bf0-4c60-8cde-bbcb926313f4"
      },
      "source": [
        "x1=range(1,5,2)\r\n",
        "print(list(x1))\r\n"
      ],
      "execution_count": null,
      "outputs": [
        {
          "output_type": "stream",
          "text": [
            "[1, 3]\n"
          ],
          "name": "stdout"
        }
      ]
    },
    {
      "cell_type": "code",
      "metadata": {
        "colab": {
          "base_uri": "https://localhost:8080/"
        },
        "id": "gHySAGfmW56e",
        "outputId": "a8a0ae92-b81c-42a4-ddf7-274d70ca111c"
      },
      "source": [
        "x={1,2,3,2}\r\n",
        "print(x)"
      ],
      "execution_count": null,
      "outputs": [
        {
          "output_type": "stream",
          "text": [
            "{1, 2, 3}\n"
          ],
          "name": "stdout"
        }
      ]
    },
    {
      "cell_type": "code",
      "metadata": {
        "colab": {
          "base_uri": "https://localhost:8080/"
        },
        "id": "j0RkupIbXQYo",
        "outputId": "f2eeea11-529e-4bec-b2f1-133923f21bd1"
      },
      "source": [
        "x=1\r\n",
        "y=2.9\r\n",
        "z=1j\r\n",
        "a=float(x)\r\n",
        "b=int(y)\r\n",
        "c=complex(x)\r\n",
        "print(a)\r\n",
        "print(b)\r\n",
        "print(c)\r\n"
      ],
      "execution_count": null,
      "outputs": [
        {
          "output_type": "stream",
          "text": [
            "1.0\n",
            "2\n",
            "(1+0j)\n"
          ],
          "name": "stdout"
        }
      ]
    },
    {
      "cell_type": "code",
      "metadata": {
        "colab": {
          "base_uri": "https://localhost:8080/"
        },
        "id": "m1Ja0l2mY8xq",
        "outputId": "5fa96210-47af-477b-a1ca-edd75c82ed95"
      },
      "source": [
        "name = \"Jay\"\r\n",
        "print(name)\r\n",
        "print(name[2])"
      ],
      "execution_count": null,
      "outputs": [
        {
          "output_type": "stream",
          "text": [
            "Jay\n",
            "y\n"
          ],
          "name": "stdout"
        }
      ]
    },
    {
      "cell_type": "code",
      "metadata": {
        "colab": {
          "base_uri": "https://localhost:8080/"
        },
        "id": "RGViekuye70L",
        "outputId": "287fcb8c-df7c-427d-9dfc-f00610fde2e3"
      },
      "source": [
        "name=\"hello world\"\r\n",
        "print(name[4])\r\n",
        "print(len(name))\r\n",
        "\r\n"
      ],
      "execution_count": null,
      "outputs": [
        {
          "output_type": "stream",
          "text": [
            "o\n",
            "11\n"
          ],
          "name": "stdout"
        }
      ]
    },
    {
      "cell_type": "code",
      "metadata": {
        "colab": {
          "base_uri": "https://localhost:8080/"
        },
        "id": "ykgbf2tzfMb1",
        "outputId": "45659775-57c8-415e-a5d2-5dc4b178bfe7"
      },
      "source": [
        "txt=\"things in life are free!!\"\r\n",
        "print(\"north\" in txt)"
      ],
      "execution_count": null,
      "outputs": [
        {
          "output_type": "stream",
          "text": [
            "False\n"
          ],
          "name": "stdout"
        }
      ]
    },
    {
      "cell_type": "code",
      "metadata": {
        "colab": {
          "base_uri": "https://localhost:8080/"
        },
        "id": "AFXtMfkOf2YW",
        "outputId": "fdec28b3-d13e-4d5a-852d-55ae26103eeb"
      },
      "source": [
        "txt=\"things in life are free!!\"\r\n",
        "print(txt[6:])\r\n",
        "b=\"Hello, world\"\r\n",
        "print(b[-5:-2])"
      ],
      "execution_count": null,
      "outputs": [
        {
          "output_type": "stream",
          "text": [
            " in life are free!!\n",
            "wor\n"
          ],
          "name": "stdout"
        }
      ]
    },
    {
      "cell_type": "code",
      "metadata": {
        "colab": {
          "base_uri": "https://localhost:8080/"
        },
        "id": "tvZSLV2tgrvt",
        "outputId": "531e5ca8-073e-46f8-9d42-9b1792683b7e"
      },
      "source": [
        "a=\"Hello,World!\"\r\n",
        "print(a.upper())"
      ],
      "execution_count": null,
      "outputs": [
        {
          "output_type": "stream",
          "text": [
            "HELLO,WORLD!\n"
          ],
          "name": "stdout"
        }
      ]
    },
    {
      "cell_type": "code",
      "metadata": {
        "colab": {
          "base_uri": "https://localhost:8080/"
        },
        "id": "GP__9cXFhsaG",
        "outputId": "c092d967-c0e9-4bfe-c0ca-afd47d4eeb54"
      },
      "source": [
        "txt=\"Hello\\bWorld!\"\r\n",
        "print(txt)\r\n"
      ],
      "execution_count": null,
      "outputs": [
        {
          "output_type": "stream",
          "text": [
            "Hello\bWorld!\n"
          ],
          "name": "stdout"
        }
      ]
    },
    {
      "cell_type": "code",
      "metadata": {
        "id": "RTm94xVeki-N",
        "colab": {
          "base_uri": "https://localhost:8080/"
        },
        "outputId": "153fc8c8-d07a-42c9-8d88-ccf40f8dd80e"
      },
      "source": [
        "name=\"alvas\"\r\n",
        "print(name)\r\n",
        "print(len(name))\r\n",
        "print(name.upper())\r\n",
        "y=\" college\"\r\n",
        "print(str(name)+str(y))\r\n",
        "print(name.isdigit())\r\n",
        "\r\n"
      ],
      "execution_count": 44,
      "outputs": [
        {
          "output_type": "stream",
          "text": [
            "alvas\n",
            "5\n",
            "ALVAS\n",
            "alvas college\n",
            "False\n"
          ],
          "name": "stdout"
        }
      ]
    },
    {
      "cell_type": "code",
      "metadata": {
        "colab": {
          "base_uri": "https://localhost:8080/"
        },
        "id": "CG-cQ0RF4wv9",
        "outputId": "eb7c6e8c-b57f-44b8-acc5-f7396b5b0c4b"
      },
      "source": [
        "x=5\r\n",
        "x+=3\r\n",
        "print(x)\r\n"
      ],
      "execution_count": 45,
      "outputs": [
        {
          "output_type": "stream",
          "text": [
            "8\n"
          ],
          "name": "stdout"
        }
      ]
    },
    {
      "cell_type": "code",
      "metadata": {
        "colab": {
          "base_uri": "https://localhost:8080/"
        },
        "id": "7yYtn-187w4s",
        "outputId": "7b3718cd-b5bf-4a44-826c-383d62df0458"
      },
      "source": [
        "x=5\r\n",
        "y=6\r\n",
        "print(x==y)\r\n",
        "\r\n"
      ],
      "execution_count": 46,
      "outputs": [
        {
          "output_type": "stream",
          "text": [
            "False\n"
          ],
          "name": "stdout"
        }
      ]
    },
    {
      "cell_type": "code",
      "metadata": {
        "colab": {
          "base_uri": "https://localhost:8080/"
        },
        "id": "KvE5XbxV8QAY",
        "outputId": "d95bddee-818c-40ca-8abd-71435bb6174f"
      },
      "source": [
        "x=3\r\n",
        "y=3\r\n",
        "print(x==y)\r\n",
        "print(x!=y)"
      ],
      "execution_count": 47,
      "outputs": [
        {
          "output_type": "stream",
          "text": [
            "True\n",
            "False\n"
          ],
          "name": "stdout"
        }
      ]
    },
    {
      "cell_type": "code",
      "metadata": {
        "colab": {
          "base_uri": "https://localhost:8080/"
        },
        "id": "dpr7dtHn9HEl",
        "outputId": "03866871-8ddc-480c-b996-a40fa15321e9"
      },
      "source": [
        "print(3>0 and 3<8)"
      ],
      "execution_count": 49,
      "outputs": [
        {
          "output_type": "stream",
          "text": [
            "True\n"
          ],
          "name": "stdout"
        }
      ]
    },
    {
      "cell_type": "code",
      "metadata": {
        "colab": {
          "base_uri": "https://localhost:8080/"
        },
        "id": "tYKNMTtM9lfV",
        "outputId": "dc70df6f-d5b2-49d2-d290-a929a8891bd9"
      },
      "source": [
        "x=12\r\n",
        "y=4\r\n",
        "print(x+y)\r\n",
        "print(x-y)\r\n",
        "print(x*y)\r\n",
        "print(x/y)\r\n",
        "print(12**4)\r\n",
        "print(12%4)"
      ],
      "execution_count": 56,
      "outputs": [
        {
          "output_type": "stream",
          "text": [
            "16\n",
            "8\n",
            "48\n",
            "3.0\n",
            "20736\n",
            "0\n"
          ],
          "name": "stdout"
        }
      ]
    },
    {
      "cell_type": "code",
      "metadata": {
        "id": "gO5B6Epc-eG1"
      },
      "source": [
        ""
      ],
      "execution_count": null,
      "outputs": []
    }
  ]
}